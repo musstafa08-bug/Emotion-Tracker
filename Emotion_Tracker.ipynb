{
  "nbformat": 4,
  "nbformat_minor": 0,
  "metadata": {
    "colab": {
      "name": "Emotion Tracker.ipynb",
      "provenance": [],
      "authorship_tag": "ABX9TyMeFx8bGZdYH1maloY6DxBC"
    },
    "kernelspec": {
      "name": "python3",
      "display_name": "Python 3"
    }
  },
  "cells": [
    {
      "cell_type": "code",
      "metadata": {
        "id": "o2YvOkFnVmaK",
        "colab_type": "code",
        "colab": {
          "base_uri": "https://localhost:8080/",
          "height": 34
        },
        "outputId": "749090d3-6d2f-4144-f3e2-194034555694"
      },
      "source": [
        "import numpy as np\n",
        "from keras import layers\n",
        "from keras.layers import Input, Dense, Activation, ZeroPadding2D, BatchNormalization, Flatten, Conv2D\n",
        "from keras.layers import AveragePooling2D, MaxPooling2D, Dropout, GlobalMaxPooling2D, GlobalAveragePooling2D\n",
        "from keras.models import Model\n",
        "from keras.preprocessing import image\n",
        "from keras.utils import layer_utils\n",
        "from keras.utils.data_utils import get_file\n",
        "from keras.applications.imagenet_utils import preprocess_input\n",
        "import pydot\n",
        "from IPython.display import SVG\n",
        "from keras.utils.vis_utils import model_to_dot\n",
        "from keras.utils import plot_model\n",
        "from keras.preprocessing import image\n",
        "\n",
        "\n",
        "import keras.backend as K\n",
        "K.set_image_data_format('channels_last')\n",
        "import matplotlib.pyplot as plt\n",
        "from matplotlib.pyplot import imshow\n",
        "import h5py\n",
        "%matplotlib inline\n"
      ],
      "execution_count": null,
      "outputs": [
        {
          "output_type": "stream",
          "text": [
            "Using TensorFlow backend.\n"
          ],
          "name": "stderr"
        }
      ]
    },
    {
      "cell_type": "code",
      "metadata": {
        "id": "1PhQtNF_Vp-c",
        "colab_type": "code",
        "colab": {}
      },
      "source": [
        "train_dataset = h5py.File('/content/train_happy.h5', \"r\")\n",
        "test_dataset = h5py.File('/content/test_happy.h5', \"r\")"
      ],
      "execution_count": null,
      "outputs": []
    },
    {
      "cell_type": "code",
      "metadata": {
        "id": "mAxh5QFna_qd",
        "colab_type": "code",
        "colab": {}
      },
      "source": [
        "#train set features\n",
        "train_set_features = np.array(train_dataset[\"train_set_x\"][:])\n",
        "#train set labels\n",
        "train_set_labels = np.array(train_dataset[\"train_set_y\"][:])\n",
        "#test set features\n",
        "test_set_features = np.array(test_dataset[\"test_set_x\"][:])\n",
        "# test set labels\n",
        "test_set_labels = np.array(test_dataset[\"test_set_y\"][:])"
      ],
      "execution_count": null,
      "outputs": []
    },
    {
      "cell_type": "code",
      "metadata": {
        "id": "ajbzhTnge1zG",
        "colab_type": "code",
        "colab": {}
      },
      "source": [
        "#list of classes\n",
        "classes = np.array(test_dataset['list_classes'][:])"
      ],
      "execution_count": null,
      "outputs": []
    },
    {
      "cell_type": "code",
      "metadata": {
        "id": "8lrSqQAIf-5f",
        "colab_type": "code",
        "colab": {
          "base_uri": "https://localhost:8080/",
          "height": 118
        },
        "outputId": "206afac8-7e3c-4dcb-d104-f32794248281"
      },
      "source": [
        "X_train = train_set_features / 255.\n",
        "X_test = test_set_features / 255.\n",
        "Y_train = train_set_labels.T\n",
        "Y_test = test_set_labels.T\n",
        "print (\"number of training examples = \" + str(X_train.shape[0]))\n",
        "print (\"number of test examples = \" + str(X_test.shape[0]))\n",
        "print (\"X_train shape: \" + str(X_train.shape))\n",
        "print (\"Y_train shape: \" + str(Y_train.shape))\n",
        "print (\"X_test shape: \" + str(X_test.shape))\n",
        "print (\"Y_test shape: \" + str(Y_test.shape))"
      ],
      "execution_count": null,
      "outputs": [
        {
          "output_type": "stream",
          "text": [
            "number of training examples = 600\n",
            "number of test examples = 150\n",
            "X_train shape: (600, 64, 64, 3)\n",
            "Y_train shape: (600,)\n",
            "X_test shape: (150, 64, 64, 3)\n",
            "Y_test shape: (150,)\n"
          ],
          "name": "stdout"
        }
      ]
    },
    {
      "cell_type": "code",
      "metadata": {
        "id": "iklOPz9ugUpa",
        "colab_type": "code",
        "colab": {}
      },
      "source": [
        "def EmotionTracker(input_shape):\n",
        "  #Input image\n",
        "  X_input = Input(input_shape)\n",
        "  #Padding\n",
        "  X = ZeroPadding2D((3, 3))(X_input)\n",
        "  #Convolutional layer, BatchNormalization, Activationon X\n",
        "  X = Conv2D(32, (3, 3), strides = (1,1), name = 'conv0')(X_input)\n",
        "  X = BatchNormalization(axis = 3, name = 'bn0')(X)\n",
        "  X = Activation('relu')(X)\n",
        "\n",
        "  #MaxPool layer\n",
        "  X = MaxPooling2D((2,2), name = 'max_pool')(X)\n",
        "  #Flatten X \n",
        "  X = Flatten()(X)\n",
        "  # Fully Conneected Layer\n",
        "  X = Dense(1, activation = 'sigmoid', name = 'fully_connected')(X)\n",
        "  #Create Model\n",
        "  model = Model(inputs = X_input, outputs = X, name = 'EmotionTracker')\n",
        "\n",
        "  return model"
      ],
      "execution_count": null,
      "outputs": []
    },
    {
      "cell_type": "code",
      "metadata": {
        "id": "qQfJabWaQ-iS",
        "colab_type": "code",
        "colab": {}
      },
      "source": [
        "emotiontracker = EmotionTracker(X_train.shape[1:])"
      ],
      "execution_count": null,
      "outputs": []
    },
    {
      "cell_type": "markdown",
      "metadata": {
        "id": "4wlLUEqqUML0",
        "colab_type": "text"
      },
      "source": [
        "## Compile Model"
      ]
    },
    {
      "cell_type": "code",
      "metadata": {
        "id": "tru4apJURNBl",
        "colab_type": "code",
        "colab": {}
      },
      "source": [
        "emotiontracker.compile(optimizer = 'adam', loss = 'binary_crossentropy', metrics = ['accuracy'])"
      ],
      "execution_count": null,
      "outputs": []
    },
    {
      "cell_type": "markdown",
      "metadata": {
        "id": "MD6tV9_3UZnG",
        "colab_type": "text"
      },
      "source": [
        "## Train Model"
      ]
    },
    {
      "cell_type": "code",
      "metadata": {
        "id": "c99Bt5IsTZgN",
        "colab_type": "code",
        "colab": {
          "base_uri": "https://localhost:8080/",
          "height": 1000
        },
        "outputId": "900a6c1d-4f53-44fe-9115-f677e9d71a51"
      },
      "source": [
        "emotiontracker.fit(X_train, Y_train, batch_size = 15, epochs = 30)"
      ],
      "execution_count": null,
      "outputs": [
        {
          "output_type": "stream",
          "text": [
            "Epoch 1/30\n",
            "600/600 [==============================] - 2s 4ms/step - loss: 0.0379 - accuracy: 0.9783\n",
            "Epoch 2/30\n",
            "600/600 [==============================] - 2s 4ms/step - loss: 0.0364 - accuracy: 0.9883\n",
            "Epoch 3/30\n",
            "600/600 [==============================] - 2s 4ms/step - loss: 0.0097 - accuracy: 0.9967\n",
            "Epoch 4/30\n",
            "600/600 [==============================] - 2s 4ms/step - loss: 0.0020 - accuracy: 1.0000\n",
            "Epoch 5/30\n",
            "600/600 [==============================] - 2s 4ms/step - loss: 0.0047 - accuracy: 0.9967\n",
            "Epoch 6/30\n",
            "600/600 [==============================] - 2s 4ms/step - loss: 0.0397 - accuracy: 0.9883\n",
            "Epoch 7/30\n",
            "600/600 [==============================] - 2s 4ms/step - loss: 0.0272 - accuracy: 0.9900\n",
            "Epoch 8/30\n",
            "600/600 [==============================] - 2s 4ms/step - loss: 0.1817 - accuracy: 0.9550\n",
            "Epoch 9/30\n",
            "600/600 [==============================] - 2s 4ms/step - loss: 0.0723 - accuracy: 0.9833\n",
            "Epoch 10/30\n",
            "600/600 [==============================] - 2s 4ms/step - loss: 0.0043 - accuracy: 0.9983\n",
            "Epoch 11/30\n",
            "600/600 [==============================] - 2s 4ms/step - loss: 0.0340 - accuracy: 0.9917\n",
            "Epoch 12/30\n",
            "600/600 [==============================] - 2s 4ms/step - loss: 0.0150 - accuracy: 0.9967\n",
            "Epoch 13/30\n",
            "600/600 [==============================] - 2s 4ms/step - loss: 0.0062 - accuracy: 0.9950\n",
            "Epoch 14/30\n",
            "600/600 [==============================] - 2s 4ms/step - loss: 0.0463 - accuracy: 0.9850\n",
            "Epoch 15/30\n",
            "600/600 [==============================] - 2s 4ms/step - loss: 0.0626 - accuracy: 0.9900\n",
            "Epoch 16/30\n",
            "600/600 [==============================] - 2s 4ms/step - loss: 0.0993 - accuracy: 0.9733\n",
            "Epoch 17/30\n",
            "600/600 [==============================] - 2s 4ms/step - loss: 0.0533 - accuracy: 0.9800\n",
            "Epoch 18/30\n",
            "600/600 [==============================] - 2s 4ms/step - loss: 0.0930 - accuracy: 0.9817\n",
            "Epoch 19/30\n",
            "600/600 [==============================] - 2s 4ms/step - loss: 0.0227 - accuracy: 0.9900\n",
            "Epoch 20/30\n",
            "600/600 [==============================] - 2s 4ms/step - loss: 0.0053 - accuracy: 0.9983\n",
            "Epoch 21/30\n",
            "600/600 [==============================] - 2s 4ms/step - loss: 0.0174 - accuracy: 0.9950\n",
            "Epoch 22/30\n",
            "600/600 [==============================] - 2s 4ms/step - loss: 0.0129 - accuracy: 0.9950\n",
            "Epoch 23/30\n",
            "600/600 [==============================] - 2s 4ms/step - loss: 0.0223 - accuracy: 0.9967\n",
            "Epoch 24/30\n",
            "600/600 [==============================] - 2s 4ms/step - loss: 4.3649e-04 - accuracy: 1.0000\n",
            "Epoch 25/30\n",
            "600/600 [==============================] - 2s 4ms/step - loss: 1.0911e-04 - accuracy: 1.0000\n",
            "Epoch 26/30\n",
            "600/600 [==============================] - 2s 4ms/step - loss: 3.7636e-05 - accuracy: 1.0000\n",
            "Epoch 27/30\n",
            "600/600 [==============================] - 2s 4ms/step - loss: 3.4424e-05 - accuracy: 1.0000\n",
            "Epoch 28/30\n",
            "600/600 [==============================] - 2s 4ms/step - loss: 3.8098e-05 - accuracy: 1.0000\n",
            "Epoch 29/30\n",
            "600/600 [==============================] - 2s 4ms/step - loss: 3.0689e-05 - accuracy: 1.0000\n",
            "Epoch 30/30\n",
            "600/600 [==============================] - 2s 4ms/step - loss: 2.8528e-05 - accuracy: 1.0000\n"
          ],
          "name": "stdout"
        },
        {
          "output_type": "execute_result",
          "data": {
            "text/plain": [
              "<keras.callbacks.callbacks.History at 0x7f3e33b50da0>"
            ]
          },
          "metadata": {
            "tags": []
          },
          "execution_count": 12
        }
      ]
    },
    {
      "cell_type": "markdown",
      "metadata": {
        "id": "5GAIDye2UlZZ",
        "colab_type": "text"
      },
      "source": [
        "## Evaluate Model"
      ]
    },
    {
      "cell_type": "code",
      "metadata": {
        "id": "gYLPS2G8TqUj",
        "colab_type": "code",
        "colab": {
          "base_uri": "https://localhost:8080/",
          "height": 67
        },
        "outputId": "14a9b9bb-6f4b-4e0b-9612-36f706352d48"
      },
      "source": [
        "predict = emotiontracker.evaluate(X_test, Y_test)\n",
        "print('Loss = ' + str(predict[0]))\n",
        "print('Test Accuracy = ' + str(predict[1]))"
      ],
      "execution_count": null,
      "outputs": [
        {
          "output_type": "stream",
          "text": [
            "150/150 [==============================] - 0s 2ms/step\n",
            "Loss = 0.20046023639724203\n",
            "Test Accuracy = 0.95333331823349\n"
          ],
          "name": "stdout"
        }
      ]
    },
    {
      "cell_type": "code",
      "metadata": {
        "id": "JmNupjeSU9cA",
        "colab_type": "code",
        "colab": {
          "base_uri": "https://localhost:8080/",
          "height": 386
        },
        "outputId": "c757ca2d-1df0-47bd-d2bf-9e78bb126c0e"
      },
      "source": [
        "emotiontracker.summary()"
      ],
      "execution_count": null,
      "outputs": [
        {
          "output_type": "stream",
          "text": [
            "Model: \"EmotionTracker\"\n",
            "_________________________________________________________________\n",
            "Layer (type)                 Output Shape              Param #   \n",
            "=================================================================\n",
            "input_1 (InputLayer)         (None, 64, 64, 3)         0         \n",
            "_________________________________________________________________\n",
            "conv0 (Conv2D)               (None, 62, 62, 32)        896       \n",
            "_________________________________________________________________\n",
            "bn0 (BatchNormalization)     (None, 62, 62, 32)        128       \n",
            "_________________________________________________________________\n",
            "activation_1 (Activation)    (None, 62, 62, 32)        0         \n",
            "_________________________________________________________________\n",
            "max_pool (MaxPooling2D)      (None, 31, 31, 32)        0         \n",
            "_________________________________________________________________\n",
            "flatten_1 (Flatten)          (None, 30752)             0         \n",
            "_________________________________________________________________\n",
            "fully_connected (Dense)      (None, 1)                 30753     \n",
            "=================================================================\n",
            "Total params: 31,777\n",
            "Trainable params: 31,713\n",
            "Non-trainable params: 64\n",
            "_________________________________________________________________\n"
          ],
          "name": "stdout"
        }
      ]
    },
    {
      "cell_type": "code",
      "metadata": {
        "id": "HjpOBm8AYEyD",
        "colab_type": "code",
        "colab": {
          "base_uri": "https://localhost:8080/",
          "height": 880
        },
        "outputId": "11741af9-b633-4d32-8cce-f4cf5c346558"
      },
      "source": [
        "plot_model(emotiontracker, to_file='EmotionTracker.png')\n",
        "SVG(model_to_dot(emotiontracker).create(prog='dot', format='svg'))"
      ],
      "execution_count": null,
      "outputs": [
        {
          "output_type": "execute_result",
          "data": {
            "text/plain": [
              "<IPython.core.display.SVG object>"
            ],
            "image/svg+xml": "<svg height=\"644pt\" viewBox=\"0.00 0.00 181.00 483.00\" width=\"241pt\" xmlns=\"http://www.w3.org/2000/svg\" xmlns:xlink=\"http://www.w3.org/1999/xlink\">\n<g class=\"graph\" id=\"graph0\" transform=\"scale(1.3333 1.3333) rotate(0) translate(4 479)\">\n<title>G</title>\n<polygon fill=\"#ffffff\" points=\"-4,4 -4,-479 177,-479 177,4 -4,4\" stroke=\"transparent\"/>\n<!-- 139905238638888 -->\n<g class=\"node\" id=\"node1\">\n<title>139905238638888</title>\n<polygon fill=\"none\" points=\"20,-438.5 20,-474.5 153,-474.5 153,-438.5 20,-438.5\" stroke=\"#000000\"/>\n<text fill=\"#000000\" font-family=\"Times,serif\" font-size=\"14.00\" text-anchor=\"middle\" x=\"86.5\" y=\"-452.8\">input_1: InputLayer</text>\n</g>\n<!-- 139906592713808 -->\n<g class=\"node\" id=\"node2\">\n<title>139906592713808</title>\n<polygon fill=\"none\" points=\"31.5,-365.5 31.5,-401.5 141.5,-401.5 141.5,-365.5 31.5,-365.5\" stroke=\"#000000\"/>\n<text fill=\"#000000\" font-family=\"Times,serif\" font-size=\"14.00\" text-anchor=\"middle\" x=\"86.5\" y=\"-379.8\">conv0: Conv2D</text>\n</g>\n<!-- 139905238638888&#45;&gt;139906592713808 -->\n<g class=\"edge\" id=\"edge1\">\n<title>139905238638888-&gt;139906592713808</title>\n<path d=\"M86.5,-438.4551C86.5,-430.3828 86.5,-420.6764 86.5,-411.6817\" fill=\"none\" stroke=\"#000000\"/>\n<polygon fill=\"#000000\" points=\"90.0001,-411.5903 86.5,-401.5904 83.0001,-411.5904 90.0001,-411.5903\" stroke=\"#000000\"/>\n</g>\n<!-- 139906482223648 -->\n<g class=\"node\" id=\"node3\">\n<title>139906482223648</title>\n<polygon fill=\"none\" points=\"6,-292.5 6,-328.5 167,-328.5 167,-292.5 6,-292.5\" stroke=\"#000000\"/>\n<text fill=\"#000000\" font-family=\"Times,serif\" font-size=\"14.00\" text-anchor=\"middle\" x=\"86.5\" y=\"-306.8\">bn0: BatchNormalization</text>\n</g>\n<!-- 139906592713808&#45;&gt;139906482223648 -->\n<g class=\"edge\" id=\"edge2\">\n<title>139906592713808-&gt;139906482223648</title>\n<path d=\"M86.5,-365.4551C86.5,-357.3828 86.5,-347.6764 86.5,-338.6817\" fill=\"none\" stroke=\"#000000\"/>\n<polygon fill=\"#000000\" points=\"90.0001,-338.5903 86.5,-328.5904 83.0001,-338.5904 90.0001,-338.5903\" stroke=\"#000000\"/>\n</g>\n<!-- 139906349428808 -->\n<g class=\"node\" id=\"node4\">\n<title>139906349428808</title>\n<polygon fill=\"none\" points=\"9.5,-219.5 9.5,-255.5 163.5,-255.5 163.5,-219.5 9.5,-219.5\" stroke=\"#000000\"/>\n<text fill=\"#000000\" font-family=\"Times,serif\" font-size=\"14.00\" text-anchor=\"middle\" x=\"86.5\" y=\"-233.8\">activation_1: Activation</text>\n</g>\n<!-- 139906482223648&#45;&gt;139906349428808 -->\n<g class=\"edge\" id=\"edge3\">\n<title>139906482223648-&gt;139906349428808</title>\n<path d=\"M86.5,-292.4551C86.5,-284.3828 86.5,-274.6764 86.5,-265.6817\" fill=\"none\" stroke=\"#000000\"/>\n<polygon fill=\"#000000\" points=\"90.0001,-265.5903 86.5,-255.5904 83.0001,-265.5904 90.0001,-265.5903\" stroke=\"#000000\"/>\n</g>\n<!-- 139905238524648 -->\n<g class=\"node\" id=\"node5\">\n<title>139905238524648</title>\n<polygon fill=\"none\" points=\"0,-146.5 0,-182.5 173,-182.5 173,-146.5 0,-146.5\" stroke=\"#000000\"/>\n<text fill=\"#000000\" font-family=\"Times,serif\" font-size=\"14.00\" text-anchor=\"middle\" x=\"86.5\" y=\"-160.8\">max_pool: MaxPooling2D</text>\n</g>\n<!-- 139906349428808&#45;&gt;139905238524648 -->\n<g class=\"edge\" id=\"edge4\">\n<title>139906349428808-&gt;139905238524648</title>\n<path d=\"M86.5,-219.4551C86.5,-211.3828 86.5,-201.6764 86.5,-192.6817\" fill=\"none\" stroke=\"#000000\"/>\n<polygon fill=\"#000000\" points=\"90.0001,-192.5903 86.5,-182.5904 83.0001,-192.5904 90.0001,-192.5903\" stroke=\"#000000\"/>\n</g>\n<!-- 139906723886136 -->\n<g class=\"node\" id=\"node6\">\n<title>139906723886136</title>\n<polygon fill=\"none\" points=\"30,-73.5 30,-109.5 143,-109.5 143,-73.5 30,-73.5\" stroke=\"#000000\"/>\n<text fill=\"#000000\" font-family=\"Times,serif\" font-size=\"14.00\" text-anchor=\"middle\" x=\"86.5\" y=\"-87.8\">flatten_1: Flatten</text>\n</g>\n<!-- 139905238524648&#45;&gt;139906723886136 -->\n<g class=\"edge\" id=\"edge5\">\n<title>139905238524648-&gt;139906723886136</title>\n<path d=\"M86.5,-146.4551C86.5,-138.3828 86.5,-128.6764 86.5,-119.6817\" fill=\"none\" stroke=\"#000000\"/>\n<polygon fill=\"#000000\" points=\"90.0001,-119.5903 86.5,-109.5904 83.0001,-119.5904 90.0001,-119.5903\" stroke=\"#000000\"/>\n</g>\n<!-- 139905238525544 -->\n<g class=\"node\" id=\"node7\">\n<title>139905238525544</title>\n<polygon fill=\"none\" points=\"10.5,-.5 10.5,-36.5 162.5,-36.5 162.5,-.5 10.5,-.5\" stroke=\"#000000\"/>\n<text fill=\"#000000\" font-family=\"Times,serif\" font-size=\"14.00\" text-anchor=\"middle\" x=\"86.5\" y=\"-14.8\">fully_connected: Dense</text>\n</g>\n<!-- 139906723886136&#45;&gt;139905238525544 -->\n<g class=\"edge\" id=\"edge6\">\n<title>139906723886136-&gt;139905238525544</title>\n<path d=\"M86.5,-73.4551C86.5,-65.3828 86.5,-55.6764 86.5,-46.6817\" fill=\"none\" stroke=\"#000000\"/>\n<polygon fill=\"#000000\" points=\"90.0001,-46.5903 86.5,-36.5904 83.0001,-46.5904 90.0001,-46.5903\" stroke=\"#000000\"/>\n</g>\n</g>\n</svg>"
          },
          "metadata": {
            "tags": []
          },
          "execution_count": 15
        }
      ]
    },
    {
      "cell_type": "markdown",
      "metadata": {
        "id": "rkLsxzjaYVVI",
        "colab_type": "text"
      },
      "source": [
        "## Test your image here"
      ]
    },
    {
      "cell_type": "code",
      "metadata": {
        "id": "t7QTC1zKWx9l",
        "colab_type": "code",
        "colab": {
          "base_uri": "https://localhost:8080/",
          "height": 285
        },
        "outputId": "d01ac1f1-48bd-415d-ed83-9de98935c82c"
      },
      "source": [
        "img_path = '/content/Snapchat.jpg'\n",
        "img = image.load_img(img_path, target_size = (64, 64))\n",
        "imshow(img)\n",
        "\n",
        "x = image.img_to_array(img)\n",
        "x = np.expand_dims(x, axis = 0)\n",
        "x = preprocess_input(x)\n",
        "print(emotiontracker.predict(x))"
      ],
      "execution_count": null,
      "outputs": [
        {
          "output_type": "stream",
          "text": [
            "[[1.]]\n"
          ],
          "name": "stdout"
        },
        {
          "output_type": "display_data",
          "data": {
            "image/png": "[encoded data removed]",
            "text/plain": [
              "<Figure size 432x288 with 1 Axes>"
            ]
          },
          "metadata": {
            "tags": [],
            "needs_background": "light"
          }
        }
      ]
    },
    {
      "cell_type": "code",
      "metadata": {
        "id": "HinY3rXHaAL6",
        "colab_type": "code",
        "colab": {}
      },
      "source": [
        ""
      ],
      "execution_count": null,
      "outputs": []
    }
  ]
}